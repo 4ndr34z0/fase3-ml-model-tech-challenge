{
 "cells": [
  {
   "cell_type": "code",
   "execution_count": null,
   "id": "5da94487",
   "metadata": {},
   "outputs": [],
   "source": [
    "import lightgbm as lgb\n",
    "import pandas as pd\n",
    "import numpy as np\n",
    "from typing import List, Union\n",
    "\n"
   ]
  },
  {
   "cell_type": "markdown",
   "id": "81cea4d8",
   "metadata": {},
   "source": [
    "# 1. Defina as features (variáveis de entrada) na ordem correta\n"
   ]
  },
  {
   "cell_type": "code",
   "execution_count": null,
   "id": "433096ac",
   "metadata": {},
   "outputs": [],
   "source": [
    "# Define as features, na ordem correta\n",
    "FEATURE_NAMES = [\n",
    "    'COD_UF_EMIT', 'TIP_FIN_NFE', 'CEST_COMPLETO', 'COD_CST', 'NCM_COMPLETO', 'CFOP_COMPLETO', 'EMIT_CNAE_COMPLETO', 'EMIT_CRT', \n",
    "    'EMIT_IND_SN', 'DEST_CNAE_COMPLETO', 'DEST_SITUACAO', 'DEST_IND_SN', 'DEST_POSSUI_IE', 'EMIT_CNAE_DIVISAO', 'EMIT_CNAE_GRUPO', \n",
    "    'EMIT_CNAE_CLASSE', 'DEST_CNAE_DIVISAO', 'DEST_CNAE_GRUPO', 'DEST_CNAE_CLASSE', 'NCM_CAPITULO', 'NCM_POSICAO', 'NCM_SUBPOSICAO', \n",
    "    'CFOP_NATUREZA', 'CFOP_OPERACAO', 'POSSUI_CEST', 'CEST_SEGMENTO', 'CEST_ITEM']\n",
    "\n",
    "# Features que devem ser tratadas como Categóricas (para corrigir o erro)\n",
    "CATEGORICAL_FEATURES = [\n",
    "    'COD_UF_EMIT', 'TIP_FIN_NFE', 'CEST_COMPLETO', 'COD_CST', 'NCM_COMPLETO', 'CFOP_COMPLETO', 'EMIT_CNAE_COMPLETO', 'EMIT_CRT', \n",
    "    'EMIT_IND_SN', 'DEST_CNAE_COMPLETO', 'DEST_SITUACAO', 'DEST_IND_SN', 'DEST_POSSUI_IE', 'EMIT_CNAE_DIVISAO', 'EMIT_CNAE_GRUPO', \n",
    "    'EMIT_CNAE_CLASSE', 'DEST_CNAE_DIVISAO', 'DEST_CNAE_GRUPO', 'DEST_CNAE_CLASSE', 'NCM_CAPITULO', 'NCM_POSICAO', 'NCM_SUBPOSICAO', \n",
    "    'CFOP_NATUREZA', 'CFOP_OPERACAO', 'POSSUI_CEST', 'CEST_SEGMENTO', 'CEST_ITEM'\n",
    "]"
   ]
  },
  {
   "cell_type": "markdown",
   "id": "fefc0ddd",
   "metadata": {},
   "source": [
    "# 2. Caminho do arquivo do modelo\n"
   ]
  },
  {
   "cell_type": "code",
   "execution_count": null,
   "id": "70b241e2",
   "metadata": {},
   "outputs": [],
   "source": [
    "MODEL_FILE_PATH = \"modelo_lgbm 3.txt\"\n"
   ]
  },
  {
   "cell_type": "markdown",
   "id": "30901f9f",
   "metadata": {},
   "source": [
    "# 3. Função principal para carregar o modelo e fazer a predição\n"
   ]
  },
  {
   "cell_type": "code",
   "execution_count": null,
   "id": "3cad678d",
   "metadata": {},
   "outputs": [],
   "source": [
    "def carregar_e_classificar(dados_x: pd.DataFrame) -> Union[np.ndarray, int]:\n",
    "    \"\"\"\n",
    "    Carrega o modelo LightGBM, realiza o pré-processamento necessário\n",
    "    e faz a classificação dos dados fornecidos.\n",
    "    \"\"\"\n",
    "    try:\n",
    "        # Carrega o modelo (Booster)\n",
    "        bst = lgb.Booster(model_file=MODEL_FILE_PATH)\n",
    "    except lgb.basic.LightGBMError as e:\n",
    "        print(f\"Erro ao carregar o modelo: {e}\")\n",
    "        return None\n",
    "    except Exception as e:\n",
    "        print(f\"Ocorreu um erro inesperado: {e}\")\n",
    "        return None\n",
    "\n",
    "    # Garante que as colunas do DataFrame estão na ordem correta\n",
    "    dados_para_predicao = dados_x[FEATURE_NAMES].copy()\n",
    "\n",
    "    # **ETAPA DE CORREÇÃO:** Converte as colunas categóricas para o tipo 'category'\n",
    "    for col in CATEGORICAL_FEATURES:\n",
    "        if col in dados_para_predicao.columns:\n",
    "            # Converte para string antes de category para tratar valores mistos (num/str)\n",
    "            dados_para_predicao[col] = dados_para_predicao[col].astype(str).astype('category')\n",
    "    \n",
    "    # Realiza a predição. O LightGBM agora deve reconhecer as colunas categóricas.\n",
    "    probabilidades = bst.predict(dados_para_predicao)\n",
    "\n",
    "    # A classificação final é a classe com a maior probabilidade.\n",
    "    classificacao_y = np.argmax(probabilidades, axis=1)\n",
    "\n",
    "    # Retorna o valor ou a lista de valores\n",
    "    if len(classificacao_y) == 1:\n",
    "        return classificacao_y[0]\n",
    "    return classificacao_y"
   ]
  },
  {
   "cell_type": "markdown",
   "id": "6f42a94a",
   "metadata": {},
   "source": [
    "# 4. Exemplo de Uso\n"
   ]
  },
  {
   "cell_type": "code",
   "execution_count": null,
   "id": "d948afce",
   "metadata": {},
   "outputs": [],
   "source": [
    "import pandas as pd\n",
    "from io import StringIO\n",
    "\n",
    "# A string de dados fornecida, formatada para simular a entrada de um arquivo tabulado\n",
    "dados_string = \"\"\"\n",
    "SEQ_NFE\\tCOD_UF_EMIT\\tTIP_FIN_NFE\\tID_PROD\\tCEST_COMPLETO\\tCOD_CST\\tNCM_COMPLETO\\tCFOP_COMPLETO\\tEMIT_CNAE_COMPLETO\\tEMIT_CRT\\tEMIT_IND_SN\\tDEST_CNAE_COMPLETO\\tDEST_SITUACAO\\tTIPO_IMPOSTO\\tDEST_IND_SN\\tDEST_POSSUI_IE\\tEMIT_CNAE_DIVISAO\\tEMIT_CNAE_GRUPO\\tEMIT_CNAE_CLASSE\\tDEST_CNAE_DIVISAO\\tDEST_CNAE_GRUPO\\tDEST_CNAE_CLASSE\\tNCM_CAPITULO\\tNCM_POSICAO\\tNCM_SUBPOSICAO\\tCFOP_NATUREZA\\tCFOP_OPERACAO\\tPOSSUI_CEST\\tCEST_SEGMENTO\\tCEST_ITEM\n",
    "435959728\\tSP\\t1\\t2928998889\\t0\\t0\\t96082000\\t6102\\tAUSENTE\\t1\\tS\\t55108010\\t2\\tSTDIF\\t0\\t1\\tAUSENTE\\tAUSENTE\\tAUSENTE\\t55\\t551\\t5510\\t96\\t9608\\t960820\\t6\\t102\\t0\\tAUSENTE\\tAUSENTE\n",
    "435959728\\tSP\\t1\\t2928998890\\t0\\t0\\t44191900\\t6101\\tAUSENTE\\t1\\tS\\t55108010\\t2\\tANT\\t0\\t1\\tAUSENTE\\tAUSENTE\\tAUSENTE\\t55\\t551\\t5510\\t44\\t4419\\t441919\\t6\\t101\\t0\\tAUSENTE\\tAUSENTE\n",
    "\"\"\"\n",
    "\n",
    "# Usando StringIO para tratar a string como um arquivo\n",
    "# O parâmetro 'sep='\\t'' indica que a tabulação é o separador\n",
    "df = pd.read_csv(StringIO(dados_string), sep='\\t')\n",
    "\n",
    "print(\"DataFrame 'df' criado com sucesso:\")\n",
    "print(\"-\" * 50)\n",
    "print(df.head())\n",
    "print(\"-\" * 50)\n",
    "print(f\"Dimensão do DataFrame: {df.shape}\")\n",
    "print(f\"Colunas (Total {len(df.columns)}): {df.columns.tolist()}\")\n",
    "\n",
    "\n",
    "# Realiza a classificação\n",
    "resultado_y = carregar_e_classificar(df)\n",
    "\n",
    "if resultado_y is not None:\n",
    "    print(\"--- Resultado da Classificação (Y) ---\")\n",
    "    if isinstance(resultado_y, int):\n",
    "            print(f\"Classificação prevista: {resultado_y}\")\n",
    "    else:\n",
    "        df['CLASSIFICACAO_Y'] = resultado_y\n",
    "        print(df[['CLASSIFICACAO_Y']])\n",
    "        print(f\"\\nResultado completo (array): {resultado_y}\")"
   ]
  },
  {
   "cell_type": "code",
   "execution_count": 12,
   "id": "cc00c3fa",
   "metadata": {},
   "outputs": [
    {
     "name": "stdout",
     "output_type": "stream",
     "text": [
      "\n",
      "Erro (Esperado): Não foi possível carregar o modelo LightGBM a partir do arquivo de texto.\n",
      "Detalhes: pandas dtypes must be int, float or bool.\n",
      "Fields with bad pandas dtypes: TIPO_IMPOSTO: object\n"
     ]
    },
    {
     "name": "stderr",
     "output_type": "stream",
     "text": [
      "C:\\Users\\ajsantos\\AppData\\Local\\Temp\\ipykernel_28776\\2667272179.py:72: FutureWarning: Downcasting behavior in `replace` is deprecated and will be removed in a future version. To retain the old behavior, explicitly call `result.infer_objects(copy=False)`. To opt-in to the future behavior, set `pd.set_option('future.no_silent_downcasting', True)`\n",
      "  df_test[col] = df_test[col].replace('AUSENTE', np.nan)\n"
     ]
    }
   ],
   "source": [
    "import pandas as pd\n",
    "import lightgbm as lgb\n",
    "from io import StringIO\n",
    "import numpy as np\n",
    "\n",
    "# 1. Definição das Features e Identificação dos Tipos\n",
    "# A lista de feature_names foi extraída do arquivo 'modelo_lgbm 3.txt'\n",
    "FEATURE_NAMES = [\n",
    "    'COD_UF_EMIT', 'TIP_FIN_NFE', 'CEST_COMPLETO', 'COD_CST', 'NCM_COMPLETO', \n",
    "    'CFOP_COMPLETO', 'EMIT_CNAE_COMPLETO', 'EMIT_CRT', 'EMIT_IND_SN', 'DEST_CNAE_COMPLETO', \n",
    "    'DEST_SITUACAO', 'DEST_IND_SN', 'DEST_POSSUI_IE', 'EMIT_CNAE_DIVISAO', 'EMIT_CNAE_GRUPO', \n",
    "    'EMIT_CNAE_CLASSE', 'DEST_CNAE_DIVISAO', 'DEST_CNAE_GRUPO', 'DEST_CNAE_CLASSE', 'NCM_CAPITULO', \n",
    "    'NCM_POSICAO', 'NCM_SUBPOSICAO', 'CFOP_NATUREZA', 'CFOP_OPERACAO', 'POSSUI_CEST', \n",
    "    'CEST_SEGMENTO', 'CEST_ITEM'\n",
    "]\n",
    "\n",
    "# Pela natureza dos dados (códigos, divisões, indicadores 'S/N', etc.), \n",
    "# a prática comum com LightGBM é tratar todas essas colunas como categóricas, \n",
    "# exceto por chaves numéricas que não são usadas na predição (SEQ_NFE, ID_PROD).\n",
    "CATEGORICAL_FEATURES = FEATURE_NAMES.copy()\n",
    "\n",
    "# 2. Criação do DataFrame de Teste\n",
    "# Os dados de teste são baseados nos valores que você forneceu, removendo SEQ_NFE, ID_PROD e TIPO_IMPOSTO.\n",
    "data = {\n",
    "    'COD_UF_EMIT': ['SP', 'SP'],\n",
    "    'TIP_FIN_NFE': [1, 1],\n",
    "    'CEST_COMPLETO': [0, 0],\n",
    "    'COD_CST': [0, 0],\n",
    "    'NCM_COMPLETO': [96082000, 44191900],\n",
    "    'CFOP_COMPLETO': [6102, 6101],\n",
    "    'EMIT_CNAE_COMPLETO': ['AUSENTE', 'AUSENTE'],\n",
    "    'EMIT_CRT': [1, 1],\n",
    "    'EMIT_IND_SN': ['S', 'S'],\n",
    "    'DEST_CNAE_COMPLETO': [55108010, 55108010],\n",
    "    'DEST_SITUACAO': [2, 2],\n",
    "    'DEST_IND_SN': [0, 0],\n",
    "    'DEST_POSSUI_IE': [1, 1],\n",
    "    'EMIT_CNAE_DIVISAO': ['AUSENTE', 'AUSENTE'],\n",
    "    'EMIT_CNAE_GRUPO': ['AUSENTE', 'AUSENTE'],\n",
    "    'EMIT_CNAE_CLASSE': ['AUSENTE', 'AUSENTE'],\n",
    "    'DEST_CNAE_DIVISAO': [55, 55],\n",
    "    'DEST_CNAE_GRUPO': [551, 551],\n",
    "    'DEST_CNAE_CLASSE': [5510, 5510],\n",
    "    'NCM_CAPITULO': [96, 44],\n",
    "    'NCM_POSICAO': [9608, 4419],\n",
    "    'NCM_SUBPOSICAO': [960820, 441919],\n",
    "    'CFOP_NATUREZA': [6, 6],\n",
    "    'CFOP_OPERACAO': [102, 101],\n",
    "    'POSSUI_CEST': [0, 0],\n",
    "    'CEST_SEGMENTO': ['AUSENTE', 'AUSENTE'],\n",
    "    'CEST_ITEM': ['AUSENTE', 'AUSENTE']\n",
    "}\n",
    "\n",
    "# A string de dados fornecida, usando ponto e vírgula (;) como separador\n",
    "dados_string = \"\"\"\n",
    "SEQ_NFE;COD_UF_EMIT;TIP_FIN_NFE;ID_PROD;CEST_COMPLETO;COD_CST;NCM_COMPLETO;CFOP_COMPLETO;EMIT_CNAE_COMPLETO;EMIT_CRT;EMIT_IND_SN;DEST_CNAE_COMPLETO;DEST_SITUACAO;TIPO_IMPOSTO;DEST_IND_SN;DEST_POSSUI_IE;EMIT_CNAE_DIVISAO;EMIT_CNAE_GRUPO;EMIT_CNAE_CLASSE;DEST_CNAE_DIVISAO;DEST_CNAE_GRUPO;DEST_CNAE_CLASSE;NCM_CAPITULO;NCM_POSICAO;NCM_SUBPOSICAO;CFOP_NATUREZA;CFOP_OPERACAO;POSSUI_CEST;CEST_SEGMENTO;CEST_ITEM\n",
    "436983724;PR;1;2934276265;0;0;44201900;6101;AUSENTE;1;S;AUSENTE;0;ANT;0;0;AUSENTE;AUSENTE;AUSENTE;AUSENTE;AUSENTE;AUSENTE;44;4420;442019;6;101;0;AUSENTE;AUSENTE\n",
    "437027824;PB;1;2934465641;0;10;19041000;6401;10643000;3;N;47121000;2;ST;0;1;10;106;1064;47;471;4712;19;1904;190410;6;401;0;AUSENTE;AUSENTE\n",
    "\"\"\"\n",
    "\n",
    "# Usando StringIO para ler a string como um arquivo\n",
    "# O parâmetro 'sep=';'' garante a leitura correta dos dados\n",
    "df_test = pd.read_csv(StringIO(dados_string), sep=';')\n",
    "\n",
    "# Criamos o DataFrame de teste\n",
    "# df_test = pd.DataFrame(data, columns=FEATURE_NAMES)\n",
    "\n",
    "# 3. Conversão de Tipos (Essencial para LightGBM)\n",
    "# Convertemos todas as colunas identificadas como categóricas para o dtype 'category'\n",
    "for col in CATEGORICAL_FEATURES:\n",
    "    # Garantir que valores como 'AUSENTE' sejam tratados corretamente\n",
    "    df_test[col] = df_test[col].replace('AUSENTE', np.nan) \n",
    "    df_test[col] = df_test[col].astype('category')\n",
    "\n",
    "# 4. Simulação de Carga e Predição do Modelo (Placeholder)\n",
    "# O modelo real estaria contido no arquivo 'modelo_lgbm 3.txt'.\n",
    "# Para o teste, apenas mostramos como seria a preparação e a chamada de predição.\n",
    "\n",
    "try:\n",
    "    # Simulação de carregamento do modelo LightGBM (Se o arquivo fosse binário)\n",
    "    bst = lgb.Booster(model_file='modelo_lgbm 3.txt')\n",
    "    predictions = bst.predict(df_test, raw_score=False)\n",
    "    \n",
    "    # argmax retorna o índice (0 a 4) da classe com maior probabilidade\n",
    "    classificacao_y_indices = np.argmax(predictions, axis=1)\n",
    "\n",
    "\n",
    "    print(classificacao_y_indices)\n",
    "\n",
    "except Exception as e:\n",
    "    # Se o modelo fosse carregado, ele falharia porque o arquivo é texto, não binário.\n",
    "    # Esta exceção é apenas para demonstrar o fluxo ideal.\n",
    "    print(f\"\\nErro (Esperado): Não foi possível carregar o modelo LightGBM a partir do arquivo de texto.\\nDetalhes: {e}\")"
   ]
  }
 ],
 "metadata": {
  "kernelspec": {
   "display_name": "env",
   "language": "python",
   "name": "python3"
  },
  "language_info": {
   "codemirror_mode": {
    "name": "ipython",
    "version": 3
   },
   "file_extension": ".py",
   "mimetype": "text/x-python",
   "name": "python",
   "nbconvert_exporter": "python",
   "pygments_lexer": "ipython3",
   "version": "3.12.5"
  }
 },
 "nbformat": 4,
 "nbformat_minor": 5
}
