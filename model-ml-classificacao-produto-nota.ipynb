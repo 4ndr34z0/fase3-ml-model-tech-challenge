{
 "cells": [
  {
   "cell_type": "code",
   "execution_count": 2,
   "id": "5da94487",
   "metadata": {},
   "outputs": [],
   "source": [
    "import lightgbm as lgb\n",
    "import pandas as pd\n",
    "import numpy as np\n",
    "from typing import List, Union\n",
    "\n"
   ]
  },
  {
   "cell_type": "markdown",
   "id": "81cea4d8",
   "metadata": {},
   "source": [
    "# 1. Defina as features (variáveis de entrada) na ordem correta\n"
   ]
  },
  {
   "cell_type": "code",
   "execution_count": 10,
   "id": "433096ac",
   "metadata": {},
   "outputs": [],
   "source": [
    "FEATURE_NAMES = [\n",
    "    'COD_UF_EMIT', \n",
    "    'TIP_FIN_NFE', \n",
    "    'COD_CEST', \n",
    "    'COD_CST', \n",
    "    'COD_NCM', \n",
    "    'COD_CFOP', \n",
    "    'EMIT_COD_CNAE', \n",
    "    'EMIT_CRT', \n",
    "    'EMIT_IND_SN', \n",
    "    'DEST_CNAE_PRINC', \n",
    "    'DEST_POSSUI_IE', \n",
    "    'DEST_SIMPLES'\n",
    "]\n",
    "\n",
    "# 2. **NOVAS VARIÁVEIS** - Identifique quais features são Categóricas\n",
    "# Baseado na descrição das features, estas são as mais prováveis de serem categóricas\n",
    "CATEGORICAL_FEATURES = [\n",
    "    'COD_UF_EMIT', \n",
    "    'TIP_FIN_NFE', \n",
    "    'COD_CEST', \n",
    "    'COD_CST', \n",
    "    'COD_NCM', \n",
    "    'COD_CFOP', \n",
    "    'EMIT_COD_CNAE', \n",
    "    'EMIT_CRT', \n",
    "    'EMIT_IND_SN', \n",
    "    'DEST_CNAE_PRINC', \n",
    "    'DEST_POSSUI_IE', \n",
    "    'DEST_SIMPLES'\n",
    "]"
   ]
  },
  {
   "cell_type": "markdown",
   "id": "fefc0ddd",
   "metadata": {},
   "source": [
    "# 2. Caminho do arquivo do modelo\n"
   ]
  },
  {
   "cell_type": "code",
   "execution_count": 4,
   "id": "70b241e2",
   "metadata": {},
   "outputs": [],
   "source": [
    "MODEL_FILE_PATH = \"modelo_lgbm 1.txt\"\n"
   ]
  },
  {
   "cell_type": "markdown",
   "id": "30901f9f",
   "metadata": {},
   "source": [
    "# 3. Função principal para carregar o modelo e fazer a predição\n"
   ]
  },
  {
   "cell_type": "code",
   "execution_count": 11,
   "id": "3cad678d",
   "metadata": {},
   "outputs": [],
   "source": [
    "def carregar_e_classificar(dados_x: pd.DataFrame) -> Union[np.ndarray, int]:\n",
    "    \"\"\"\n",
    "    Carrega o modelo LightGBM, realiza o pré-processamento necessário\n",
    "    e faz a classificação dos dados fornecidos.\n",
    "    \"\"\"\n",
    "    try:\n",
    "        # Carrega o modelo (Booster)\n",
    "        bst = lgb.Booster(model_file=MODEL_FILE_PATH)\n",
    "    except lgb.basic.LightGBMError as e:\n",
    "        print(f\"Erro ao carregar o modelo: {e}\")\n",
    "        return None\n",
    "    except Exception as e:\n",
    "        print(f\"Ocorreu um erro inesperado: {e}\")\n",
    "        return None\n",
    "\n",
    "    # Garante que as colunas do DataFrame estão na ordem correta\n",
    "    dados_para_predicao = dados_x[FEATURE_NAMES].copy()\n",
    "\n",
    "    # **ETAPA DE CORREÇÃO:** Converte as colunas categóricas para o tipo 'category'\n",
    "    for col in CATEGORICAL_FEATURES:\n",
    "        if col in dados_para_predicao.columns:\n",
    "            # Converte para string antes de category para tratar valores mistos (num/str)\n",
    "            dados_para_predicao[col] = dados_para_predicao[col].astype(str).astype('category')\n",
    "    \n",
    "    # Realiza a predição. O LightGBM agora deve reconhecer as colunas categóricas.\n",
    "    probabilidades = bst.predict(dados_para_predicao)\n",
    "\n",
    "    # A classificação final é a classe com a maior probabilidade.\n",
    "    classificacao_y = np.argmax(probabilidades, axis=1)\n",
    "\n",
    "    # Retorna o valor ou a lista de valores\n",
    "    if len(classificacao_y) == 1:\n",
    "        return classificacao_y[0]\n",
    "    return classificacao_y"
   ]
  },
  {
   "cell_type": "markdown",
   "id": "6f42a94a",
   "metadata": {},
   "source": [
    "# 4. Exemplo de Uso\n"
   ]
  },
  {
   "cell_type": "code",
   "execution_count": 15,
   "id": "d948afce",
   "metadata": {},
   "outputs": [
    {
     "name": "stdout",
     "output_type": "stream",
     "text": [
      "--- Dados de Entrada (X) ---\n",
      "  COD_UF_EMIT  TIP_FIN_NFE   COD_CEST  COD_CST   COD_NCM  COD_CFOP  \\\n",
      "0          PE            1  1003000.0        0  69072100      6107   \n",
      "1          SP            1  2100100.0        0  73211100      6107   \n",
      "2          PE            1        NaN       10  23099010      6401   \n",
      "\n",
      "   EMIT_COD_CNAE  EMIT_CRT EMIT_IND_SN  DEST_CNAE_PRINC DEST_POSSUI_IE  \\\n",
      "0            NaN         3           N              NaN              S   \n",
      "1      2751100.0         3           N              NaN              N   \n",
      "2            NaN         3           N        4789004.0              S   \n",
      "\n",
      "  DEST_SIMPLES  \n",
      "0            N  \n",
      "1            S  \n",
      "2            S  \n",
      "\n",
      "\n",
      "--- Resultado da Classificação (Y) ---\n",
      "   CLASSIFICACAO_Y\n",
      "0                2\n",
      "1                2\n",
      "2                2\n",
      "\n",
      "Resultado completo (array): [2 2 2]\n"
     ]
    }
   ],
   "source": [
    "# --- CRIE SEUS DADOS DE ENTRADA AQUI ---\n",
    "# Valores de exemplo que requerem a tipagem categórica\n",
    "dados_exemplo = pd.DataFrame({\n",
    "    'COD_UF_EMIT': [\"PE\", \"SP\", \"PE\"], \n",
    "    'TIP_FIN_NFE': [1, 1, 1],\n",
    "    'COD_CEST': [1003000, 2100100, None],\n",
    "    'COD_CST': [0, 0, 10],\n",
    "    'COD_NCM': [69072100, 73211100, 23099010],\n",
    "    'COD_CFOP': [6107, 6107, 6401],\n",
    "    'EMIT_COD_CNAE': [None, 2751100, None], # Valores numéricos\n",
    "    'EMIT_CRT': [3, 3, 3],\n",
    "    'EMIT_IND_SN': ['N', 'N', 'N'],\n",
    "    'DEST_CNAE_PRINC': [None, None, 4789004], # Valores numéricos\n",
    "    'DEST_POSSUI_IE': [\"S\", \"N\", \"S\"],\n",
    "    'DEST_SIMPLES': ['N', 'S', 'S']\n",
    "})\n",
    "\n",
    "print(\"--- Dados de Entrada (X) ---\")\n",
    "print(dados_exemplo)\n",
    "print(\"\\n\")\n",
    "\n",
    "# Realiza a classificação\n",
    "resultado_y = carregar_e_classificar(dados_exemplo)\n",
    "\n",
    "if resultado_y is not None:\n",
    "    print(\"--- Resultado da Classificação (Y) ---\")\n",
    "    if isinstance(resultado_y, int):\n",
    "            print(f\"Classificação prevista: {resultado_y}\")\n",
    "    else:\n",
    "        dados_exemplo['CLASSIFICACAO_Y'] = resultado_y\n",
    "        print(dados_exemplo[['CLASSIFICACAO_Y']])\n",
    "        print(f\"\\nResultado completo (array): {resultado_y}\")"
   ]
  }
 ],
 "metadata": {
  "kernelspec": {
   "display_name": "env",
   "language": "python",
   "name": "python3"
  },
  "language_info": {
   "codemirror_mode": {
    "name": "ipython",
    "version": 3
   },
   "file_extension": ".py",
   "mimetype": "text/x-python",
   "name": "python",
   "nbconvert_exporter": "python",
   "pygments_lexer": "ipython3",
   "version": "3.12.5"
  }
 },
 "nbformat": 4,
 "nbformat_minor": 5
}
